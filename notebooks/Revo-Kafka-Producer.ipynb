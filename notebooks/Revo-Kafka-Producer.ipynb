{
 "cells": [
  {
   "cell_type": "code",
   "execution_count": 1,
   "metadata": {},
   "outputs": [],
   "source": [
    "import json\n",
    "import uuid\n",
    "import os\n",
    "import json\n",
    "from dotenv import load_dotenv\n",
    "from pathlib import Path\n",
    "from kafka import KafkaProducer\n",
    "from faker import Faker\n",
    "from time import sleep"
   ]
  },
  {
   "cell_type": "code",
   "execution_count": 2,
   "metadata": {},
   "outputs": [],
   "source": [
    "\n",
    "# Load environment variables\n",
    "dotenv_path = Path('/resources/.env')\n",
    "load_dotenv(dotenv_path=dotenv_path)\n",
    "\n",
    "# Kafka Config\n",
    "kafka_host = os.getenv('KAFKA_HOST')\n",
    "kafka_topic = os.getenv('KAFKA_TOPIC_NAME')\n",
    "kafka_topic_partition = os.getenv('KAFKA_TOPIC_NAME')+\"-1\"\n",
    "\n"
   ]
  },
  {
   "cell_type": "code",
   "execution_count": 6,
   "metadata": {},
   "outputs": [
    {
     "name": "stdout",
     "output_type": "stream",
     "text": [
      "dataeng-kafka\n"
     ]
    }
   ],
   "source": [
    "print(kafka_host)"
   ]
  },
  {
   "cell_type": "code",
   "execution_count": 4,
   "metadata": {
    "tags": []
   },
   "outputs": [
    {
     "name": "stdout",
     "output_type": "stream",
     "text": [
      "topic-book\n"
     ]
    }
   ],
   "source": [
    "print(kafka_topic)"
   ]
  },
  {
   "cell_type": "code",
   "execution_count": 8,
   "metadata": {},
   "outputs": [],
   "source": [
    "# Kafka Producer (using raw byte serialization)\n",
    "producer = KafkaProducer(\n",
    "    bootstrap_servers=f\"{kafka_host}:9092\"\n",
    ")"
   ]
  },
  {
   "cell_type": "code",
   "execution_count": 9,
   "metadata": {},
   "outputs": [],
   "source": [
    "_instance = Faker()\n",
    "global faker\n",
    "faker = Faker()"
   ]
  },
  {
   "cell_type": "code",
   "execution_count": 10,
   "metadata": {},
   "outputs": [
    {
     "name": "stdout",
     "output_type": "stream",
     "text": [
      "9b988d19-ecec-4862-b4d6-1fe8fb2f3c88 RecordMetadata(topic='topic-book-1', partition=0, topic_partition=TopicPartition(topic='topic-book-1', partition=0), offset=0, timestamp=1738895741104, log_start_offset=0, checksum=None, serialized_key_size=-1, serialized_value_size=181, serialized_header_size=-1)\n",
      "bf71026e-761b-47eb-a8e0-b289bc1a46ac RecordMetadata(topic='topic-book-1', partition=0, topic_partition=TopicPartition(topic='topic-book-1', partition=0), offset=1, timestamp=1738895746114, log_start_offset=0, checksum=None, serialized_key_size=-1, serialized_value_size=191, serialized_header_size=-1)\n",
      "a6db788d-c1f4-48d6-a9ca-e58acb36c308 RecordMetadata(topic='topic-book-1', partition=0, topic_partition=TopicPartition(topic='topic-book-1', partition=0), offset=2, timestamp=1738895751123, log_start_offset=0, checksum=None, serialized_key_size=-1, serialized_value_size=171, serialized_header_size=-1)\n",
      "03b3ea27-9853-4782-9d45-3eb3c5167247 RecordMetadata(topic='topic-book-1', partition=0, topic_partition=TopicPartition(topic='topic-book-1', partition=0), offset=3, timestamp=1738895756133, log_start_offset=0, checksum=None, serialized_key_size=-1, serialized_value_size=181, serialized_header_size=-1)\n",
      "76c2cb6b-2c68-4ea4-94dd-5bc51f9fd1fe RecordMetadata(topic='topic-book-1', partition=0, topic_partition=TopicPartition(topic='topic-book-1', partition=0), offset=4, timestamp=1738895761144, log_start_offset=0, checksum=None, serialized_key_size=-1, serialized_value_size=189, serialized_header_size=-1)\n",
      "60cce770-572e-434d-a293-dbf26fecdb2c RecordMetadata(topic='topic-book-1', partition=0, topic_partition=TopicPartition(topic='topic-book-1', partition=0), offset=5, timestamp=1738895767631, log_start_offset=0, checksum=None, serialized_key_size=-1, serialized_value_size=178, serialized_header_size=-1)\n",
      "3a6be5d5-13a1-440a-beac-a58698d4e61d RecordMetadata(topic='topic-book-1', partition=0, topic_partition=TopicPartition(topic='topic-book-1', partition=0), offset=6, timestamp=1738895772637, log_start_offset=0, checksum=None, serialized_key_size=-1, serialized_value_size=185, serialized_header_size=-1)\n",
      "af2506d1-c829-47ef-a41f-6eb2f3cd9ba6 RecordMetadata(topic='topic-book-1', partition=0, topic_partition=TopicPartition(topic='topic-book-1', partition=0), offset=7, timestamp=1738895777648, log_start_offset=0, checksum=None, serialized_key_size=-1, serialized_value_size=185, serialized_header_size=-1)\n",
      "304f6a32-bcf1-4422-b17e-62183df63894 RecordMetadata(topic='topic-book-1', partition=0, topic_partition=TopicPartition(topic='topic-book-1', partition=0), offset=8, timestamp=1738895782653, log_start_offset=0, checksum=None, serialized_key_size=-1, serialized_value_size=204, serialized_header_size=-1)\n",
      "ccadc935-2763-47d4-8df4-f5db6f67f567 RecordMetadata(topic='topic-book-1', partition=0, topic_partition=TopicPartition(topic='topic-book-1', partition=0), offset=9, timestamp=1738895787658, log_start_offset=0, checksum=None, serialized_key_size=-1, serialized_value_size=173, serialized_header_size=-1)\n",
      "53734a11-e268-45e8-8cef-60335632220c RecordMetadata(topic='topic-book-1', partition=0, topic_partition=TopicPartition(topic='topic-book-1', partition=0), offset=10, timestamp=1738895792664, log_start_offset=0, checksum=None, serialized_key_size=-1, serialized_value_size=184, serialized_header_size=-1)\n",
      "4dda1ff1-4f2b-4fb1-93a3-551968df6c7b RecordMetadata(topic='topic-book-1', partition=0, topic_partition=TopicPartition(topic='topic-book-1', partition=0), offset=11, timestamp=1738895799164, log_start_offset=0, checksum=None, serialized_key_size=-1, serialized_value_size=180, serialized_header_size=-1)\n",
      "bfa4f83a-f1c0-4076-b1e2-e037270adcab RecordMetadata(topic='topic-book-1', partition=0, topic_partition=TopicPartition(topic='topic-book-1', partition=0), offset=12, timestamp=1738895804175, log_start_offset=0, checksum=None, serialized_key_size=-1, serialized_value_size=178, serialized_header_size=-1)\n",
      "f650134c-4f20-4020-a03b-624dd5f57f54 RecordMetadata(topic='topic-book-1', partition=0, topic_partition=TopicPartition(topic='topic-book-1', partition=0), offset=13, timestamp=1738895809185, log_start_offset=0, checksum=None, serialized_key_size=-1, serialized_value_size=181, serialized_header_size=-1)\n",
      "57f42a39-66e5-471e-8a14-c892cba478a9 RecordMetadata(topic='topic-book-1', partition=0, topic_partition=TopicPartition(topic='topic-book-1', partition=0), offset=14, timestamp=1738895814194, log_start_offset=0, checksum=None, serialized_key_size=-1, serialized_value_size=183, serialized_header_size=-1)\n",
      "e8b90fc9-acf0-4d36-9af9-006a3096337d RecordMetadata(topic='topic-book-1', partition=0, topic_partition=TopicPartition(topic='topic-book-1', partition=0), offset=15, timestamp=1738895819201, log_start_offset=0, checksum=None, serialized_key_size=-1, serialized_value_size=180, serialized_header_size=-1)\n",
      "bb305e6d-00eb-47e0-b321-edc6492fc5be RecordMetadata(topic='topic-book-1', partition=0, topic_partition=TopicPartition(topic='topic-book-1', partition=0), offset=16, timestamp=1738895824212, log_start_offset=0, checksum=None, serialized_key_size=-1, serialized_value_size=178, serialized_header_size=-1)\n",
      "5a65f9d5-256f-45af-b215-ade625851493 RecordMetadata(topic='topic-book-1', partition=0, topic_partition=TopicPartition(topic='topic-book-1', partition=0), offset=17, timestamp=1738895830710, log_start_offset=0, checksum=None, serialized_key_size=-1, serialized_value_size=191, serialized_header_size=-1)\n",
      "d6072bca-1f77-424b-a046-13587a25c9ec RecordMetadata(topic='topic-book-1', partition=0, topic_partition=TopicPartition(topic='topic-book-1', partition=0), offset=18, timestamp=1738895835719, log_start_offset=0, checksum=None, serialized_key_size=-1, serialized_value_size=173, serialized_header_size=-1)\n",
      "4ea25d11-51d8-4415-a1ce-3c6fcedb250a RecordMetadata(topic='topic-book-1', partition=0, topic_partition=TopicPartition(topic='topic-book-1', partition=0), offset=19, timestamp=1738895840727, log_start_offset=0, checksum=None, serialized_key_size=-1, serialized_value_size=184, serialized_header_size=-1)\n",
      "c2f3ea9f-2e24-4dc7-aa20-ff7d1caebc29 RecordMetadata(topic='topic-book-1', partition=0, topic_partition=TopicPartition(topic='topic-book-1', partition=0), offset=20, timestamp=1738895845736, log_start_offset=0, checksum=None, serialized_key_size=-1, serialized_value_size=183, serialized_header_size=-1)\n",
      "e1a41077-fc39-4fb8-98b0-11aae0d57bca RecordMetadata(topic='topic-book-1', partition=0, topic_partition=TopicPartition(topic='topic-book-1', partition=0), offset=21, timestamp=1738895850743, log_start_offset=0, checksum=None, serialized_key_size=-1, serialized_value_size=180, serialized_header_size=-1)\n",
      "2f9262f0-0e2a-45b2-a6ea-487e71aaa339 RecordMetadata(topic='topic-book-1', partition=0, topic_partition=TopicPartition(topic='topic-book-1', partition=0), offset=22, timestamp=1738895855752, log_start_offset=0, checksum=None, serialized_key_size=-1, serialized_value_size=176, serialized_header_size=-1)\n",
      "730017c5-d284-4bcd-8e1a-b2e9b4ced4bb RecordMetadata(topic='topic-book-1', partition=0, topic_partition=TopicPartition(topic='topic-book-1', partition=0), offset=23, timestamp=1738895862226, log_start_offset=0, checksum=None, serialized_key_size=-1, serialized_value_size=205, serialized_header_size=-1)\n",
      "093ddbab-8609-4999-81e0-9add82dd1e63 RecordMetadata(topic='topic-book-1', partition=0, topic_partition=TopicPartition(topic='topic-book-1', partition=0), offset=24, timestamp=1738895867230, log_start_offset=0, checksum=None, serialized_key_size=-1, serialized_value_size=192, serialized_header_size=-1)\n",
      "4eb15676-205a-4d97-b5b6-b0d5dd454dac RecordMetadata(topic='topic-book-1', partition=0, topic_partition=TopicPartition(topic='topic-book-1', partition=0), offset=25, timestamp=1738895872245, log_start_offset=0, checksum=None, serialized_key_size=-1, serialized_value_size=189, serialized_header_size=-1)\n",
      "4d5b2d34-1500-4de3-a69e-44d0a36ec900 RecordMetadata(topic='topic-book-1', partition=0, topic_partition=TopicPartition(topic='topic-book-1', partition=0), offset=26, timestamp=1738895877254, log_start_offset=0, checksum=None, serialized_key_size=-1, serialized_value_size=186, serialized_header_size=-1)\n",
      "d9239185-87e7-4c0b-8fe2-1c746be7c849 RecordMetadata(topic='topic-book-1', partition=0, topic_partition=TopicPartition(topic='topic-book-1', partition=0), offset=27, timestamp=1738895882262, log_start_offset=0, checksum=None, serialized_key_size=-1, serialized_value_size=186, serialized_header_size=-1)\n",
      "b87ddff2-08bb-4cd1-80aa-3f830d8f1898 RecordMetadata(topic='topic-book-1', partition=0, topic_partition=TopicPartition(topic='topic-book-1', partition=0), offset=28, timestamp=1738895887273, log_start_offset=0, checksum=None, serialized_key_size=-1, serialized_value_size=167, serialized_header_size=-1)\n",
      "8bb822c0-f62a-4068-92c8-fc2d5f5ee17d RecordMetadata(topic='topic-book-1', partition=0, topic_partition=TopicPartition(topic='topic-book-1', partition=0), offset=29, timestamp=1738895893778, log_start_offset=0, checksum=None, serialized_key_size=-1, serialized_value_size=179, serialized_header_size=-1)\n",
      "5eac72e4-30f9-43d1-91d2-f37ca51735b2 RecordMetadata(topic='topic-book-1', partition=0, topic_partition=TopicPartition(topic='topic-book-1', partition=0), offset=30, timestamp=1738895898787, log_start_offset=0, checksum=None, serialized_key_size=-1, serialized_value_size=186, serialized_header_size=-1)\n",
      "7d88d6a5-0715-47ef-a483-50e147bb9d9e RecordMetadata(topic='topic-book-1', partition=0, topic_partition=TopicPartition(topic='topic-book-1', partition=0), offset=31, timestamp=1738895903795, log_start_offset=0, checksum=None, serialized_key_size=-1, serialized_value_size=203, serialized_header_size=-1)\n",
      "104563b6-e561-4d9f-b46f-7b6a8165e53b RecordMetadata(topic='topic-book-1', partition=0, topic_partition=TopicPartition(topic='topic-book-1', partition=0), offset=32, timestamp=1738895908804, log_start_offset=0, checksum=None, serialized_key_size=-1, serialized_value_size=179, serialized_header_size=-1)\n",
      "87aa8fdd-ed56-40ec-80bf-d58122defbbc RecordMetadata(topic='topic-book-1', partition=0, topic_partition=TopicPartition(topic='topic-book-1', partition=0), offset=33, timestamp=1738895913814, log_start_offset=0, checksum=None, serialized_key_size=-1, serialized_value_size=182, serialized_header_size=-1)\n",
      "3353aedd-d737-4285-a192-fa3381afd314 RecordMetadata(topic='topic-book-1', partition=0, topic_partition=TopicPartition(topic='topic-book-1', partition=0), offset=34, timestamp=1738895918828, log_start_offset=0, checksum=None, serialized_key_size=-1, serialized_value_size=179, serialized_header_size=-1)\n",
      "fc606e67-c520-4a79-b416-a9516a0042c0 RecordMetadata(topic='topic-book-1', partition=0, topic_partition=TopicPartition(topic='topic-book-1', partition=0), offset=35, timestamp=1738895925324, log_start_offset=0, checksum=None, serialized_key_size=-1, serialized_value_size=193, serialized_header_size=-1)\n",
      "2a72c75e-b991-4b7a-a552-0178adbf1c52 RecordMetadata(topic='topic-book-1', partition=0, topic_partition=TopicPartition(topic='topic-book-1', partition=0), offset=36, timestamp=1738895930333, log_start_offset=0, checksum=None, serialized_key_size=-1, serialized_value_size=179, serialized_header_size=-1)\n",
      "38dcde1b-7194-483f-8d70-f435e89a3cbe RecordMetadata(topic='topic-book-1', partition=0, topic_partition=TopicPartition(topic='topic-book-1', partition=0), offset=37, timestamp=1738895935341, log_start_offset=0, checksum=None, serialized_key_size=-1, serialized_value_size=183, serialized_header_size=-1)\n",
      "e63f83b7-1498-4a0f-8a76-11531cdb8192 RecordMetadata(topic='topic-book-1', partition=0, topic_partition=TopicPartition(topic='topic-book-1', partition=0), offset=38, timestamp=1738895940346, log_start_offset=0, checksum=None, serialized_key_size=-1, serialized_value_size=183, serialized_header_size=-1)\n",
      "41f1b325-63c3-41b5-9f57-7cff8ba7115e RecordMetadata(topic='topic-book-1', partition=0, topic_partition=TopicPartition(topic='topic-book-1', partition=0), offset=39, timestamp=1738895945353, log_start_offset=0, checksum=None, serialized_key_size=-1, serialized_value_size=187, serialized_header_size=-1)\n",
      "de724b77-2cd1-4bf1-b6bc-dfac30f28eb6 RecordMetadata(topic='topic-book-1', partition=0, topic_partition=TopicPartition(topic='topic-book-1', partition=0), offset=40, timestamp=1738895950360, log_start_offset=0, checksum=None, serialized_key_size=-1, serialized_value_size=181, serialized_header_size=-1)\n",
      "c045e868-71af-4fcd-89d8-be1293170dc3 RecordMetadata(topic='topic-book-1', partition=0, topic_partition=TopicPartition(topic='topic-book-1', partition=0), offset=41, timestamp=1738895956866, log_start_offset=0, checksum=None, serialized_key_size=-1, serialized_value_size=187, serialized_header_size=-1)\n",
      "b1dbd4b0-b0cf-44e5-b825-da2fc4fb7cec RecordMetadata(topic='topic-book-1', partition=0, topic_partition=TopicPartition(topic='topic-book-1', partition=0), offset=42, timestamp=1738895961874, log_start_offset=0, checksum=None, serialized_key_size=-1, serialized_value_size=181, serialized_header_size=-1)\n"
     ]
    },
    {
     "ename": "KeyboardInterrupt",
     "evalue": "",
     "output_type": "error",
     "traceback": [
      "\u001b[0;31m---------------------------------------------------------------------------\u001b[0m",
      "\u001b[0;31mKeyboardInterrupt\u001b[0m                         Traceback (most recent call last)",
      "Cell \u001b[0;32mIn[10], line 24\u001b[0m\n\u001b[1;32m     21\u001b[0m response \u001b[38;5;241m=\u001b[39m  producer\u001b[38;5;241m.\u001b[39msend(topic\u001b[38;5;241m=\u001b[39mkafka_topic_partition, value\u001b[38;5;241m=\u001b[39m_payload)\n\u001b[1;32m     22\u001b[0m \u001b[38;5;28mprint\u001b[39m(json_data[\u001b[38;5;124m'\u001b[39m\u001b[38;5;124mid_book\u001b[39m\u001b[38;5;124m'\u001b[39m],response\u001b[38;5;241m.\u001b[39mget())\n\u001b[0;32m---> 24\u001b[0m \u001b[43msleep\u001b[49m\u001b[43m(\u001b[49m\u001b[38;5;241;43m5\u001b[39;49m\u001b[43m)\u001b[49m\n",
      "\u001b[0;31mKeyboardInterrupt\u001b[0m: "
     ]
    }
   ],
   "source": [
    "class DataGenerator(object):\n",
    "    @staticmethod\n",
    "    def get_data():\n",
    "        return [\n",
    "            uuid.uuid4().__str__(),\n",
    "            faker.name(),\n",
    "            faker.sentence(nb_words=3),\n",
    "            faker.random_element(elements=[\"Fiction\", \"Non-fiction\", \"Sci-Fi\", \"Fantasy\", \"Biography\"]),\n",
    "            faker.random_int(min=10000, max=150000),\n",
    "            faker.random_int(min=0, max=100),\n",
    "            faker.unix_time()\n",
    "        ]\n",
    "\n",
    "for i in range(1,100):\n",
    "    columns = [\"id_book\", \"author\", \"title\", \"genre\", \"price\", \"stock\", \"publish_id\"]\n",
    "    data_list = DataGenerator.get_data()\n",
    "    json_data = dict(\n",
    "        zip(columns,data_list)\n",
    "    )\n",
    "    _payload = json.dumps(json_data).encode(\"utf-8\")\n",
    "    response =  producer.send(topic=kafka_topic_partition, value=_payload)\n",
    "    print(json_data['id_book'],response.get())\n",
    "\n",
    "    sleep(5)"
   ]
  }
 ],
 "metadata": {
  "kernelspec": {
   "display_name": "Python 3 (ipykernel)",
   "language": "python",
   "name": "python3"
  },
  "language_info": {
   "codemirror_mode": {
    "name": "ipython",
    "version": 3
   },
   "file_extension": ".py",
   "mimetype": "text/x-python",
   "name": "python",
   "nbconvert_exporter": "python",
   "pygments_lexer": "ipython3",
   "version": "3.10.10"
  }
 },
 "nbformat": 4,
 "nbformat_minor": 4
}
