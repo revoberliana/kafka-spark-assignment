{
 "cells": [
  {
   "cell_type": "code",
   "execution_count": 1,
   "id": "25846da4-c6b2-46a5-b7d1-9809732bb1b9",
   "metadata": {
    "tags": []
   },
   "outputs": [],
   "source": [
    "import json\n",
    "import uuid\n",
    "import os\n",
    "import json\n",
    "from dotenv import load_dotenv\n",
    "from pathlib import Path\n",
    "from kafka import KafkaProducer\n",
    "from faker import Faker\n",
    "from time import sleep"
   ]
  },
  {
   "cell_type": "code",
   "execution_count": 2,
   "id": "42f97822-c06f-47e0-a0a4-87a7bf1d95a9",
   "metadata": {
    "tags": []
   },
   "outputs": [
    {
     "data": {
      "text/plain": [
       "True"
      ]
     },
     "execution_count": 2,
     "metadata": {},
     "output_type": "execute_result"
    }
   ],
   "source": [
    "dotenv_path = Path('/resources/.env')\n",
    "load_dotenv(dotenv_path=dotenv_path)"
   ]
  },
  {
   "cell_type": "code",
   "execution_count": 3,
   "id": "3f89f5a9-8c75-4a38-b48d-ad72c6a13c41",
   "metadata": {
    "tags": []
   },
   "outputs": [],
   "source": [
    "kafka_host = os.getenv('KAFKA_HOST')\n",
    "kafka_topic = os.getenv('KAFKA_TOPIC_NAME')\n",
    "kafka_topic_partition = os.getenv('KAFKA_TOPIC_NAME')+\"-1\"\n",
    "# kafka_topic_partition = \"dibimbing_batch_6\""
   ]
  },
  {
   "cell_type": "code",
   "execution_count": 4,
   "id": "a4a59d22-69c5-4e0a-b1e2-d0d77867c45b",
   "metadata": {
    "tags": []
   },
   "outputs": [
    {
     "name": "stdout",
     "output_type": "stream",
     "text": [
      "dataeng-kafka\n"
     ]
    }
   ],
   "source": [
    "print(kafka_host)"
   ]
  },
  {
   "cell_type": "code",
   "execution_count": 5,
   "id": "8515096d-3bc6-4905-98f5-eb1e6d7bfa4c",
   "metadata": {
    "tags": []
   },
   "outputs": [],
   "source": [
    "producer = KafkaProducer(bootstrap_servers=f'{kafka_host}:9092')"
   ]
  },
  {
   "cell_type": "code",
   "execution_count": 6,
   "id": "78075b5c-08c8-4c43-99a1-0689a87414c4",
   "metadata": {
    "tags": []
   },
   "outputs": [],
   "source": [
    "_instance = Faker()\n",
    "global faker\n",
    "faker = Faker()"
   ]
  },
  {
   "cell_type": "code",
   "execution_count": null,
   "id": "503ade79-0f77-4970-8e04-ecefce397398",
   "metadata": {
    "tags": []
   },
   "outputs": [
    {
     "name": "stdout",
     "output_type": "stream",
     "text": [
      "adb53cf7-216d-4693-9237-14f8d200a7aa RecordMetadata(topic='test-topic-1', partition=0, topic_partition=TopicPartition(topic='test-topic-1', partition=0), offset=0, timestamp=1738895179337, log_start_offset=0, checksum=None, serialized_key_size=-1, serialized_value_size=184, serialized_header_size=-1)\n",
      "986a7c5a-bee6-429d-98e8-c12789c6e734 RecordMetadata(topic='test-topic-1', partition=0, topic_partition=TopicPartition(topic='test-topic-1', partition=0), offset=1, timestamp=1738895184350, log_start_offset=0, checksum=None, serialized_key_size=-1, serialized_value_size=185, serialized_header_size=-1)\n",
      "e9e600f7-6a75-4864-bae8-de748ee518ce RecordMetadata(topic='test-topic-1', partition=0, topic_partition=TopicPartition(topic='test-topic-1', partition=0), offset=2, timestamp=1738895189364, log_start_offset=0, checksum=None, serialized_key_size=-1, serialized_value_size=185, serialized_header_size=-1)\n",
      "6505ccb6-c2ac-4585-8564-245208a8debe RecordMetadata(topic='test-topic-1', partition=0, topic_partition=TopicPartition(topic='test-topic-1', partition=0), offset=3, timestamp=1738895194388, log_start_offset=0, checksum=None, serialized_key_size=-1, serialized_value_size=182, serialized_header_size=-1)\n",
      "9ac14b69-bcaa-4036-a3f0-0dbced185121 RecordMetadata(topic='test-topic-1', partition=0, topic_partition=TopicPartition(topic='test-topic-1', partition=0), offset=4, timestamp=1738895200837, log_start_offset=0, checksum=None, serialized_key_size=-1, serialized_value_size=185, serialized_header_size=-1)\n",
      "6b333237-12f2-4f72-9a4d-f6f9d9e6860c RecordMetadata(topic='test-topic-1', partition=0, topic_partition=TopicPartition(topic='test-topic-1', partition=0), offset=5, timestamp=1738895205843, log_start_offset=0, checksum=None, serialized_key_size=-1, serialized_value_size=193, serialized_header_size=-1)\n",
      "5d3203f3-d60e-4a89-8eca-de8b2dab595e RecordMetadata(topic='test-topic-1', partition=0, topic_partition=TopicPartition(topic='test-topic-1', partition=0), offset=6, timestamp=1738895210852, log_start_offset=0, checksum=None, serialized_key_size=-1, serialized_value_size=184, serialized_header_size=-1)\n",
      "a80482f6-5328-4f55-a159-d39e462914c4 RecordMetadata(topic='test-topic-1', partition=0, topic_partition=TopicPartition(topic='test-topic-1', partition=0), offset=7, timestamp=1738895215857, log_start_offset=0, checksum=None, serialized_key_size=-1, serialized_value_size=192, serialized_header_size=-1)\n",
      "66dcbcf3-b7d3-4bcc-a6da-2de53b6ba7c8 RecordMetadata(topic='test-topic-1', partition=0, topic_partition=TopicPartition(topic='test-topic-1', partition=0), offset=8, timestamp=1738895220868, log_start_offset=0, checksum=None, serialized_key_size=-1, serialized_value_size=190, serialized_header_size=-1)\n",
      "443199ad-ed1a-43b5-a9d7-71a46bd86e80 RecordMetadata(topic='test-topic-1', partition=0, topic_partition=TopicPartition(topic='test-topic-1', partition=0), offset=9, timestamp=1738895225876, log_start_offset=0, checksum=None, serialized_key_size=-1, serialized_value_size=184, serialized_header_size=-1)\n",
      "8b35c1d6-8c66-47f4-8ecf-09ebe9f839ce RecordMetadata(topic='test-topic-1', partition=0, topic_partition=TopicPartition(topic='test-topic-1', partition=0), offset=10, timestamp=1738895232309, log_start_offset=0, checksum=None, serialized_key_size=-1, serialized_value_size=180, serialized_header_size=-1)\n",
      "9d4ad020-93fb-40ac-a3c9-a98895c22b62 RecordMetadata(topic='test-topic-1', partition=0, topic_partition=TopicPartition(topic='test-topic-1', partition=0), offset=11, timestamp=1738895237315, log_start_offset=0, checksum=None, serialized_key_size=-1, serialized_value_size=181, serialized_header_size=-1)\n",
      "1711d27f-af3f-4072-8529-17d9dcf4a6fc RecordMetadata(topic='test-topic-1', partition=0, topic_partition=TopicPartition(topic='test-topic-1', partition=0), offset=12, timestamp=1738895242325, log_start_offset=0, checksum=None, serialized_key_size=-1, serialized_value_size=184, serialized_header_size=-1)\n",
      "0bbec2cc-5201-49c0-9e6e-d444fe7d469d RecordMetadata(topic='test-topic-1', partition=0, topic_partition=TopicPartition(topic='test-topic-1', partition=0), offset=13, timestamp=1738895247333, log_start_offset=0, checksum=None, serialized_key_size=-1, serialized_value_size=183, serialized_header_size=-1)\n",
      "fd90ebc4-be0d-45a1-b1a4-24001427eb4f RecordMetadata(topic='test-topic-1', partition=0, topic_partition=TopicPartition(topic='test-topic-1', partition=0), offset=14, timestamp=1738895252341, log_start_offset=0, checksum=None, serialized_key_size=-1, serialized_value_size=178, serialized_header_size=-1)\n",
      "62e467f6-b9c2-498d-8c62-6fb25bd9ca9d RecordMetadata(topic='test-topic-1', partition=0, topic_partition=TopicPartition(topic='test-topic-1', partition=0), offset=15, timestamp=1738895257350, log_start_offset=0, checksum=None, serialized_key_size=-1, serialized_value_size=181, serialized_header_size=-1)\n",
      "98077486-9259-42ed-baa8-52dd6a9f85fd RecordMetadata(topic='test-topic-1', partition=0, topic_partition=TopicPartition(topic='test-topic-1', partition=0), offset=16, timestamp=1738895263836, log_start_offset=0, checksum=None, serialized_key_size=-1, serialized_value_size=184, serialized_header_size=-1)\n",
      "7a73efc2-3a4a-4c43-b3d3-531f437590be RecordMetadata(topic='test-topic-1', partition=0, topic_partition=TopicPartition(topic='test-topic-1', partition=0), offset=17, timestamp=1738895268840, log_start_offset=0, checksum=None, serialized_key_size=-1, serialized_value_size=190, serialized_header_size=-1)\n",
      "77069878-57df-4eaf-8d47-81620b1a2687 RecordMetadata(topic='test-topic-1', partition=0, topic_partition=TopicPartition(topic='test-topic-1', partition=0), offset=18, timestamp=1738895273848, log_start_offset=0, checksum=None, serialized_key_size=-1, serialized_value_size=185, serialized_header_size=-1)\n",
      "80c375cc-004e-4958-aec1-6142d1501700 RecordMetadata(topic='test-topic-1', partition=0, topic_partition=TopicPartition(topic='test-topic-1', partition=0), offset=19, timestamp=1738895278857, log_start_offset=0, checksum=None, serialized_key_size=-1, serialized_value_size=184, serialized_header_size=-1)\n"
     ]
    }
   ],
   "source": [
    "class DataGenerator(object):\n",
    "    @staticmethod\n",
    "    def get_data():\n",
    "        return [\n",
    "                uuid.uuid4().__str__(),\n",
    "                faker.name(),\n",
    "                faker.random_element(elements=('IT', 'HR', 'Sales', 'Marketing')),\n",
    "                faker.random_element(elements=('CA', 'NY', 'TX', 'FL', 'IL', 'RJ')),\n",
    "                faker.random_int(min=10000, max=150000),\n",
    "                faker.random_int(min=18, max=60),\n",
    "                faker.random_int(min=0, max=100000),\n",
    "                faker.unix_time()\n",
    "        ]\n",
    "\n",
    "for i in range(1,400):\n",
    "    columns =  [\"emp_id\", \"employee_name\", \"department\", \"state\", \"salary\", \"age\", \"bonus\", \"ts\", \"new\"]\n",
    "    data_list = DataGenerator.get_data()\n",
    "    json_data = dict(\n",
    "        zip(columns,data_list)\n",
    "    )\n",
    "    _payload = json.dumps(json_data).encode(\"utf-8\")\n",
    "    response = producer.send(topic=kafka_topic_partition, value=_payload)\n",
    "    # response = producer.send(topic=kafka_topic_partition, value=_payload, partition=2)\n",
    "    print(json_data['emp_id'],response.get())\n",
    "    # print(_payload)\n",
    "    sleep(5)"
   ]
  },
  {
   "cell_type": "code",
   "execution_count": null,
   "id": "be1f121f-6f90-441c-a027-c095f5903ac9",
   "metadata": {},
   "outputs": [],
   "source": []
  }
 ],
 "metadata": {
  "kernelspec": {
   "display_name": "Python 3 (ipykernel)",
   "language": "python",
   "name": "python3"
  },
  "language_info": {
   "codemirror_mode": {
    "name": "ipython",
    "version": 3
   },
   "file_extension": ".py",
   "mimetype": "text/x-python",
   "name": "python",
   "nbconvert_exporter": "python",
   "pygments_lexer": "ipython3",
   "version": "3.10.10"
  }
 },
 "nbformat": 4,
 "nbformat_minor": 5
}
